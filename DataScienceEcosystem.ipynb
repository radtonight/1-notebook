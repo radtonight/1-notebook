{
 "cells": [
  {
   "cell_type": "markdown",
   "id": "bc34f022-1f39-4ffa-bee4-42c861e3d7f8",
   "metadata": {},
   "source": [
    " _***Data Science Tools and Ecosystem***_"
   ]
  },
  {
   "cell_type": "markdown",
   "id": "feb0e531-1f05-4dc8-a8d3-2ca865bec037",
   "metadata": {},
   "source": [
    "_*In this notebook, Data Science Tools and Ecosystem are summarized.*_"
   ]
  },
  {
   "cell_type": "markdown",
   "id": "8166ca70-a0ad-4713-a448-d0d3a390a072",
   "metadata": {},
   "source": [
    "**Objetics:**"
   ]
  },
  {
   "cell_type": "markdown",
   "id": "f86200bd-6134-4109-9cd1-aa7c6883569d",
   "metadata": {},
   "source": [
    "*Some of the popular languages that Data Scientists use are:*"
   ]
  },
  {
   "cell_type": "markdown",
   "id": "0e5b4d2a-e1b7-4e69-9ade-6bf16f51bf71",
   "metadata": {
    "tags": []
   },
   "source": [
    "```\n",
    "*R\n",
    "*SQL\n",
    "*Java\n",
    "*Julia\n",
    "*Scala\n",
    "*JavaScript\n",
    "*swift\n",
    "```"
   ]
  },
  {
   "cell_type": "markdown",
   "id": "2a5036db-af2f-4f69-a437-a67fcb5e7ee1",
   "metadata": {},
   "source": [
    "*Some of the commonly used libraraies used by Data Scientists include:*"
   ]
  },
  {
   "cell_type": "markdown",
   "id": "f2ab75ea-5297-4023-a852-8a4468bbd3e4",
   "metadata": {
    "tags": []
   },
   "source": [
    "```\n",
    "\n",
    "1.Pandas\n",
    "2.Keras\n",
    "3.Pytorch\n",
    "4.Matplotlib\n",
    "```"
   ]
  },
  {
   "cell_type": "markdown",
   "id": "c3c2f756-90d8-4629-b804-c45bb75eddf2",
   "metadata": {},
   "source": [
    "|Data Science Tools|\n",
    "--------------------\n",
    "|Jupyter Lab       |\n",
    "|Jupyter Lite      |\n",
    "|VS code           |"
   ]
  },
  {
   "cell_type": "markdown",
   "id": "76a01f5b-ca7d-459a-85d7-238c46ce97ed",
   "metadata": {
    "tags": []
   },
   "source": [
    "### Below are a few examples of evaluating arithmetic expressions in Python."
   ]
  },
  {
   "cell_type": "code",
   "execution_count": 7,
   "id": "3b7fa693-d47e-48f8-860a-f2cd1aea181a",
   "metadata": {
    "tags": []
   },
   "outputs": [
    {
     "data": {
      "text/plain": [
       "100"
      ]
     },
     "execution_count": 7,
     "metadata": {},
     "output_type": "execute_result"
    }
   ],
   "source": [
    "(20+5)*4"
   ]
  },
  {
   "cell_type": "code",
   "execution_count": 17,
   "id": "f4020c4e-4a66-4cfa-b6ca-c2bd59d550be",
   "metadata": {
    "tags": []
   },
   "outputs": [],
   "source": [
    "This a simple atrithmetic expression to multiply then add intergers."
   ]
  },
  {
   "cell_type": "code",
   "execution_count": 18,
   "id": "156ee293-7852-40ad-8157-c02f6f093d17",
   "metadata": {
    "tags": []
   },
   "outputs": [
    {
     "data": {
      "text/plain": [
       "17"
      ]
     },
     "execution_count": 18,
     "metadata": {},
     "output_type": "execute_result"
    }
   ],
   "source": [
    "(3*4)+5"
   ]
  },
  {
   "cell_type": "code",
   "execution_count": null,
   "id": "515f53a6-a10d-484e-adbd-0579d34ffeae",
   "metadata": {
    "tags": []
   },
   "outputs": [],
   "source": [
    "This will convert 200 minutes to hours by diving by 60\n",
    "if 1 hours equal 60 minutes then:"
   ]
  },
  {
   "cell_type": "code",
   "execution_count": 4,
   "id": "ef7ca2b0-59e4-4570-92f5-1efafb6d8bbc",
   "metadata": {
    "tags": []
   },
   "outputs": [
    {
     "data": {
      "text/plain": [
       "3.3333333333333335"
      ]
     },
     "execution_count": 4,
     "metadata": {},
     "output_type": "execute_result"
    }
   ],
   "source": [
    "200/60"
   ]
  },
  {
   "cell_type": "markdown",
   "id": "5a732031-635c-4b09-981a-c692dbea584d",
   "metadata": {},
   "source": [
    "## Author \n",
    "\n",
    "Ruslan Acosta"
   ]
  },
  {
   "cell_type": "code",
   "execution_count": null,
   "id": "ce96fcb7-fc12-4769-ac54-26530fc1e03c",
   "metadata": {},
   "outputs": [],
   "source": []
  }
 ],
 "metadata": {
  "kernelspec": {
   "display_name": "Python",
   "language": "python",
   "name": "conda-env-python-py"
  },
  "language_info": {
   "codemirror_mode": {
    "name": "ipython",
    "version": 3
   },
   "file_extension": ".py",
   "mimetype": "text/x-python",
   "name": "python",
   "nbconvert_exporter": "python",
   "pygments_lexer": "ipython3",
   "version": "3.7.12"
  }
 },
 "nbformat": 4,
 "nbformat_minor": 5
}
